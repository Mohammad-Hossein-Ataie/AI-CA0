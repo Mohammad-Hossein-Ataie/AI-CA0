{
 "cells": [
  {
   "cell_type": "markdown",
   "id": "0b7b337f",
   "metadata": {},
   "source": [
    "# In the Name of God\n",
    "Mohammad Hossein Ataie SID: 810197632"
   ]
  },
  {
   "cell_type": "markdown",
   "id": "4ecf041e",
   "metadata": {},
   "source": [
    "# Part 1"
   ]
  },
  {
   "cell_type": "code",
   "execution_count": 225,
   "id": "eb87b718",
   "metadata": {},
   "outputs": [],
   "source": [
    "import pandas as pd\n",
    "import numpy as np\n",
    "import matplotlib.pyplot as plt\n",
    "import time"
   ]
  },
  {
   "cell_type": "code",
   "execution_count": 221,
   "id": "369289e7",
   "metadata": {},
   "outputs": [],
   "source": [
    "dataset = pd.read_csv(\"FuelConsumptionCo2.CSV\",converters = {\"tokens\":lambda tokenList : tokenList [1:].split(\",\")})"
   ]
  },
  {
   "cell_type": "markdown",
   "id": "b4691402",
   "metadata": {},
   "source": [
    "# DataFrame.head(n)\n",
    "This function returns the first n rows for the object based on position."
   ]
  },
  {
   "cell_type": "code",
   "execution_count": 4,
   "id": "3ab2b314",
   "metadata": {
    "scrolled": true
   },
   "outputs": [
    {
     "data": {
      "text/html": [
       "<div>\n",
       "<style scoped>\n",
       "    .dataframe tbody tr th:only-of-type {\n",
       "        vertical-align: middle;\n",
       "    }\n",
       "\n",
       "    .dataframe tbody tr th {\n",
       "        vertical-align: top;\n",
       "    }\n",
       "\n",
       "    .dataframe thead th {\n",
       "        text-align: right;\n",
       "    }\n",
       "</style>\n",
       "<table border=\"1\" class=\"dataframe\">\n",
       "  <thead>\n",
       "    <tr style=\"text-align: right;\">\n",
       "      <th></th>\n",
       "      <th>Unnamed: 0</th>\n",
       "      <th>MODELYEAR</th>\n",
       "      <th>MAKE</th>\n",
       "      <th>MODEL</th>\n",
       "      <th>VEHICLECLASS</th>\n",
       "      <th>ENGINESIZE</th>\n",
       "      <th>CYLINDERS</th>\n",
       "      <th>TRANSMISSION</th>\n",
       "      <th>FUELTYPE</th>\n",
       "      <th>FUELCONSUMPTION_CITY</th>\n",
       "      <th>FUELCONSUMPTION_HWY</th>\n",
       "      <th>FUELCONSUMPTION_COMB</th>\n",
       "      <th>FUELCONSUMPTION_COMB_MPG</th>\n",
       "      <th>CO2EMISSIONS</th>\n",
       "    </tr>\n",
       "  </thead>\n",
       "  <tbody>\n",
       "    <tr>\n",
       "      <th>0</th>\n",
       "      <td>0</td>\n",
       "      <td>2014</td>\n",
       "      <td>ACURA</td>\n",
       "      <td>ILX</td>\n",
       "      <td>COMPACT</td>\n",
       "      <td>2.0</td>\n",
       "      <td>4.0</td>\n",
       "      <td>AS5</td>\n",
       "      <td>Z</td>\n",
       "      <td>9.9</td>\n",
       "      <td>6.7</td>\n",
       "      <td>8.5</td>\n",
       "      <td>33</td>\n",
       "      <td>196.0</td>\n",
       "    </tr>\n",
       "  </tbody>\n",
       "</table>\n",
       "</div>"
      ],
      "text/plain": [
       "   Unnamed: 0  MODELYEAR   MAKE MODEL VEHICLECLASS  ENGINESIZE  CYLINDERS  \\\n",
       "0           0       2014  ACURA   ILX      COMPACT         2.0        4.0   \n",
       "\n",
       "  TRANSMISSION FUELTYPE  FUELCONSUMPTION_CITY  FUELCONSUMPTION_HWY  \\\n",
       "0          AS5        Z                   9.9                  6.7   \n",
       "\n",
       "   FUELCONSUMPTION_COMB  FUELCONSUMPTION_COMB_MPG  CO2EMISSIONS  \n",
       "0                   8.5                        33         196.0  "
      ]
     },
     "execution_count": 4,
     "metadata": {},
     "output_type": "execute_result"
    }
   ],
   "source": [
    "dataset.head(1)"
   ]
  },
  {
   "cell_type": "markdown",
   "id": "3df4cfb5",
   "metadata": {},
   "source": [
    "# DataFrame.tail(n)\n",
    "This function returns last n rows from the object based on position."
   ]
  },
  {
   "cell_type": "code",
   "execution_count": 5,
   "id": "36c13027",
   "metadata": {},
   "outputs": [
    {
     "data": {
      "text/html": [
       "<div>\n",
       "<style scoped>\n",
       "    .dataframe tbody tr th:only-of-type {\n",
       "        vertical-align: middle;\n",
       "    }\n",
       "\n",
       "    .dataframe tbody tr th {\n",
       "        vertical-align: top;\n",
       "    }\n",
       "\n",
       "    .dataframe thead th {\n",
       "        text-align: right;\n",
       "    }\n",
       "</style>\n",
       "<table border=\"1\" class=\"dataframe\">\n",
       "  <thead>\n",
       "    <tr style=\"text-align: right;\">\n",
       "      <th></th>\n",
       "      <th>Unnamed: 0</th>\n",
       "      <th>MODELYEAR</th>\n",
       "      <th>MAKE</th>\n",
       "      <th>MODEL</th>\n",
       "      <th>VEHICLECLASS</th>\n",
       "      <th>ENGINESIZE</th>\n",
       "      <th>CYLINDERS</th>\n",
       "      <th>TRANSMISSION</th>\n",
       "      <th>FUELTYPE</th>\n",
       "      <th>FUELCONSUMPTION_CITY</th>\n",
       "      <th>FUELCONSUMPTION_HWY</th>\n",
       "      <th>FUELCONSUMPTION_COMB</th>\n",
       "      <th>FUELCONSUMPTION_COMB_MPG</th>\n",
       "      <th>CO2EMISSIONS</th>\n",
       "    </tr>\n",
       "  </thead>\n",
       "  <tbody>\n",
       "    <tr>\n",
       "      <th>1066</th>\n",
       "      <td>1066</td>\n",
       "      <td>2014</td>\n",
       "      <td>VOLVO</td>\n",
       "      <td>XC90 AWD</td>\n",
       "      <td>SUV - STANDARD</td>\n",
       "      <td>3.2</td>\n",
       "      <td>6.0</td>\n",
       "      <td>AS6</td>\n",
       "      <td>X</td>\n",
       "      <td>14.9</td>\n",
       "      <td>10.2</td>\n",
       "      <td>12.8</td>\n",
       "      <td>22</td>\n",
       "      <td>294.0</td>\n",
       "    </tr>\n",
       "  </tbody>\n",
       "</table>\n",
       "</div>"
      ],
      "text/plain": [
       "      Unnamed: 0  MODELYEAR   MAKE     MODEL    VEHICLECLASS  ENGINESIZE  \\\n",
       "1066        1066       2014  VOLVO  XC90 AWD  SUV - STANDARD         3.2   \n",
       "\n",
       "      CYLINDERS TRANSMISSION FUELTYPE  FUELCONSUMPTION_CITY  \\\n",
       "1066        6.0          AS6        X                  14.9   \n",
       "\n",
       "      FUELCONSUMPTION_HWY  FUELCONSUMPTION_COMB  FUELCONSUMPTION_COMB_MPG  \\\n",
       "1066                 10.2                  12.8                        22   \n",
       "\n",
       "      CO2EMISSIONS  \n",
       "1066         294.0  "
      ]
     },
     "execution_count": 5,
     "metadata": {},
     "output_type": "execute_result"
    }
   ],
   "source": [
    "dataset.tail(1)"
   ]
  },
  {
   "cell_type": "markdown",
   "id": "567b6684",
   "metadata": {},
   "source": [
    "# DataFrame.describe(percentiles=None, include=None, exclude=None, datetime_is_numeric=False)\n",
    "Descriptive statistics include those that summarize the central tendency, dispersion and shape of a dataset’s distribution, excluding NaN values.\n",
    "\n",
    "Analyzes both numeric and object series, as well as DataFrame column sets of mixed data types. The output will vary depending on what is provided."
   ]
  },
  {
   "cell_type": "code",
   "execution_count": 6,
   "id": "d955af8c",
   "metadata": {},
   "outputs": [
    {
     "data": {
      "text/html": [
       "<div>\n",
       "<style scoped>\n",
       "    .dataframe tbody tr th:only-of-type {\n",
       "        vertical-align: middle;\n",
       "    }\n",
       "\n",
       "    .dataframe tbody tr th {\n",
       "        vertical-align: top;\n",
       "    }\n",
       "\n",
       "    .dataframe thead th {\n",
       "        text-align: right;\n",
       "    }\n",
       "</style>\n",
       "<table border=\"1\" class=\"dataframe\">\n",
       "  <thead>\n",
       "    <tr style=\"text-align: right;\">\n",
       "      <th></th>\n",
       "      <th>Unnamed: 0</th>\n",
       "      <th>MODELYEAR</th>\n",
       "      <th>ENGINESIZE</th>\n",
       "      <th>CYLINDERS</th>\n",
       "      <th>FUELCONSUMPTION_CITY</th>\n",
       "      <th>FUELCONSUMPTION_HWY</th>\n",
       "      <th>FUELCONSUMPTION_COMB</th>\n",
       "      <th>FUELCONSUMPTION_COMB_MPG</th>\n",
       "      <th>CO2EMISSIONS</th>\n",
       "    </tr>\n",
       "  </thead>\n",
       "  <tbody>\n",
       "    <tr>\n",
       "      <th>count</th>\n",
       "      <td>1067.000000</td>\n",
       "      <td>1067.0</td>\n",
       "      <td>1040.000000</td>\n",
       "      <td>1033.000000</td>\n",
       "      <td>1067.000000</td>\n",
       "      <td>1067.000000</td>\n",
       "      <td>1067.000000</td>\n",
       "      <td>1067.000000</td>\n",
       "      <td>964.000000</td>\n",
       "    </tr>\n",
       "    <tr>\n",
       "      <th>mean</th>\n",
       "      <td>533.000000</td>\n",
       "      <td>2014.0</td>\n",
       "      <td>3.324038</td>\n",
       "      <td>5.797677</td>\n",
       "      <td>13.296532</td>\n",
       "      <td>9.474602</td>\n",
       "      <td>11.580881</td>\n",
       "      <td>26.441425</td>\n",
       "      <td>256.741701</td>\n",
       "    </tr>\n",
       "    <tr>\n",
       "      <th>std</th>\n",
       "      <td>308.160672</td>\n",
       "      <td>0.0</td>\n",
       "      <td>1.411400</td>\n",
       "      <td>1.807262</td>\n",
       "      <td>4.101253</td>\n",
       "      <td>2.794510</td>\n",
       "      <td>3.485595</td>\n",
       "      <td>7.468702</td>\n",
       "      <td>63.265308</td>\n",
       "    </tr>\n",
       "    <tr>\n",
       "      <th>min</th>\n",
       "      <td>0.000000</td>\n",
       "      <td>2014.0</td>\n",
       "      <td>1.000000</td>\n",
       "      <td>3.000000</td>\n",
       "      <td>4.600000</td>\n",
       "      <td>4.900000</td>\n",
       "      <td>4.700000</td>\n",
       "      <td>11.000000</td>\n",
       "      <td>108.000000</td>\n",
       "    </tr>\n",
       "    <tr>\n",
       "      <th>25%</th>\n",
       "      <td>266.500000</td>\n",
       "      <td>2014.0</td>\n",
       "      <td>2.000000</td>\n",
       "      <td>4.000000</td>\n",
       "      <td>10.250000</td>\n",
       "      <td>7.500000</td>\n",
       "      <td>9.000000</td>\n",
       "      <td>21.000000</td>\n",
       "      <td>209.000000</td>\n",
       "    </tr>\n",
       "    <tr>\n",
       "      <th>50%</th>\n",
       "      <td>533.000000</td>\n",
       "      <td>2014.0</td>\n",
       "      <td>3.300000</td>\n",
       "      <td>6.000000</td>\n",
       "      <td>12.600000</td>\n",
       "      <td>8.800000</td>\n",
       "      <td>10.900000</td>\n",
       "      <td>26.000000</td>\n",
       "      <td>251.000000</td>\n",
       "    </tr>\n",
       "    <tr>\n",
       "      <th>75%</th>\n",
       "      <td>799.500000</td>\n",
       "      <td>2014.0</td>\n",
       "      <td>4.200000</td>\n",
       "      <td>8.000000</td>\n",
       "      <td>15.550000</td>\n",
       "      <td>10.850000</td>\n",
       "      <td>13.350000</td>\n",
       "      <td>31.000000</td>\n",
       "      <td>294.000000</td>\n",
       "    </tr>\n",
       "    <tr>\n",
       "      <th>max</th>\n",
       "      <td>1066.000000</td>\n",
       "      <td>2014.0</td>\n",
       "      <td>8.400000</td>\n",
       "      <td>12.000000</td>\n",
       "      <td>30.200000</td>\n",
       "      <td>20.500000</td>\n",
       "      <td>25.800000</td>\n",
       "      <td>60.000000</td>\n",
       "      <td>437.000000</td>\n",
       "    </tr>\n",
       "  </tbody>\n",
       "</table>\n",
       "</div>"
      ],
      "text/plain": [
       "        Unnamed: 0  MODELYEAR   ENGINESIZE    CYLINDERS  FUELCONSUMPTION_CITY  \\\n",
       "count  1067.000000     1067.0  1040.000000  1033.000000           1067.000000   \n",
       "mean    533.000000     2014.0     3.324038     5.797677             13.296532   \n",
       "std     308.160672        0.0     1.411400     1.807262              4.101253   \n",
       "min       0.000000     2014.0     1.000000     3.000000              4.600000   \n",
       "25%     266.500000     2014.0     2.000000     4.000000             10.250000   \n",
       "50%     533.000000     2014.0     3.300000     6.000000             12.600000   \n",
       "75%     799.500000     2014.0     4.200000     8.000000             15.550000   \n",
       "max    1066.000000     2014.0     8.400000    12.000000             30.200000   \n",
       "\n",
       "       FUELCONSUMPTION_HWY  FUELCONSUMPTION_COMB  FUELCONSUMPTION_COMB_MPG  \\\n",
       "count          1067.000000           1067.000000               1067.000000   \n",
       "mean              9.474602             11.580881                 26.441425   \n",
       "std               2.794510              3.485595                  7.468702   \n",
       "min               4.900000              4.700000                 11.000000   \n",
       "25%               7.500000              9.000000                 21.000000   \n",
       "50%               8.800000             10.900000                 26.000000   \n",
       "75%              10.850000             13.350000                 31.000000   \n",
       "max              20.500000             25.800000                 60.000000   \n",
       "\n",
       "       CO2EMISSIONS  \n",
       "count    964.000000  \n",
       "mean     256.741701  \n",
       "std       63.265308  \n",
       "min      108.000000  \n",
       "25%      209.000000  \n",
       "50%      251.000000  \n",
       "75%      294.000000  \n",
       "max      437.000000  "
      ]
     },
     "execution_count": 6,
     "metadata": {},
     "output_type": "execute_result"
    }
   ],
   "source": [
    "dataDisc = dataset.describe()\n",
    "dataDisc"
   ]
  },
  {
   "cell_type": "markdown",
   "id": "167dbea4",
   "metadata": {},
   "source": [
    "# Part 2"
   ]
  },
  {
   "cell_type": "markdown",
   "id": "26db4cb7",
   "metadata": {},
   "source": [
    "# DataFrame.info(verbose=None, buf=None, max_cols=None, memory_usage=None, show_counts=None, null_counts=None)\n",
    "This method prints information about a DataFrame including the index dtype and columns, non-null values and memory usage."
   ]
  },
  {
   "cell_type": "code",
   "execution_count": 7,
   "id": "cc717cb8",
   "metadata": {},
   "outputs": [
    {
     "name": "stdout",
     "output_type": "stream",
     "text": [
      "<class 'pandas.core.frame.DataFrame'>\n",
      "RangeIndex: 1067 entries, 0 to 1066\n",
      "Data columns (total 14 columns):\n",
      " #   Column                    Non-Null Count  Dtype  \n",
      "---  ------                    --------------  -----  \n",
      " 0   Unnamed: 0                1067 non-null   int64  \n",
      " 1   MODELYEAR                 1067 non-null   int64  \n",
      " 2   MAKE                      1067 non-null   object \n",
      " 3   MODEL                     1058 non-null   object \n",
      " 4   VEHICLECLASS              1067 non-null   object \n",
      " 5   ENGINESIZE                1040 non-null   float64\n",
      " 6   CYLINDERS                 1033 non-null   float64\n",
      " 7   TRANSMISSION              1067 non-null   object \n",
      " 8   FUELTYPE                  996 non-null    object \n",
      " 9   FUELCONSUMPTION_CITY      1067 non-null   float64\n",
      " 10  FUELCONSUMPTION_HWY       1067 non-null   float64\n",
      " 11  FUELCONSUMPTION_COMB      1067 non-null   float64\n",
      " 12  FUELCONSUMPTION_COMB_MPG  1067 non-null   int64  \n",
      " 13  CO2EMISSIONS              964 non-null    float64\n",
      "dtypes: float64(6), int64(3), object(5)\n",
      "memory usage: 116.8+ KB\n"
     ]
    }
   ],
   "source": [
    "dataset.info()"
   ]
  },
  {
   "cell_type": "code",
   "execution_count": 8,
   "id": "fdadc264",
   "metadata": {},
   "outputs": [
    {
     "data": {
      "text/html": [
       "<div>\n",
       "<style scoped>\n",
       "    .dataframe tbody tr th:only-of-type {\n",
       "        vertical-align: middle;\n",
       "    }\n",
       "\n",
       "    .dataframe tbody tr th {\n",
       "        vertical-align: top;\n",
       "    }\n",
       "\n",
       "    .dataframe thead th {\n",
       "        text-align: right;\n",
       "    }\n",
       "</style>\n",
       "<table border=\"1\" class=\"dataframe\">\n",
       "  <thead>\n",
       "    <tr style=\"text-align: right;\">\n",
       "      <th></th>\n",
       "      <th>MAKE</th>\n",
       "      <th>MODEL</th>\n",
       "      <th>VEHICLECLASS</th>\n",
       "      <th>TRANSMISSION</th>\n",
       "      <th>FUELTYPE</th>\n",
       "    </tr>\n",
       "  </thead>\n",
       "  <tbody>\n",
       "    <tr>\n",
       "      <th>0</th>\n",
       "      <td>ACURA</td>\n",
       "      <td>ILX</td>\n",
       "      <td>COMPACT</td>\n",
       "      <td>AS5</td>\n",
       "      <td>Z</td>\n",
       "    </tr>\n",
       "    <tr>\n",
       "      <th>1</th>\n",
       "      <td>ACURA</td>\n",
       "      <td>ILX</td>\n",
       "      <td>COMPACT</td>\n",
       "      <td>M6</td>\n",
       "      <td>Z</td>\n",
       "    </tr>\n",
       "    <tr>\n",
       "      <th>2</th>\n",
       "      <td>ACURA</td>\n",
       "      <td>ILX HYBRID</td>\n",
       "      <td>COMPACT</td>\n",
       "      <td>AV7</td>\n",
       "      <td>Z</td>\n",
       "    </tr>\n",
       "    <tr>\n",
       "      <th>3</th>\n",
       "      <td>ACURA</td>\n",
       "      <td>MDX 4WD</td>\n",
       "      <td>SUV - SMALL</td>\n",
       "      <td>AS6</td>\n",
       "      <td>Z</td>\n",
       "    </tr>\n",
       "    <tr>\n",
       "      <th>4</th>\n",
       "      <td>ACURA</td>\n",
       "      <td>RDX AWD</td>\n",
       "      <td>SUV - SMALL</td>\n",
       "      <td>AS6</td>\n",
       "      <td>Z</td>\n",
       "    </tr>\n",
       "  </tbody>\n",
       "</table>\n",
       "</div>"
      ],
      "text/plain": [
       "    MAKE       MODEL VEHICLECLASS TRANSMISSION FUELTYPE\n",
       "0  ACURA         ILX      COMPACT          AS5        Z\n",
       "1  ACURA         ILX      COMPACT           M6        Z\n",
       "2  ACURA  ILX HYBRID      COMPACT          AV7        Z\n",
       "3  ACURA     MDX 4WD  SUV - SMALL          AS6        Z\n",
       "4  ACURA     RDX AWD  SUV - SMALL          AS6        Z"
      ]
     },
     "execution_count": 8,
     "metadata": {},
     "output_type": "execute_result"
    }
   ],
   "source": [
    "obj_df = dataset.select_dtypes(include=['object']).copy()\n",
    "obj_df.head()"
   ]
  },
  {
   "cell_type": "code",
   "execution_count": 9,
   "id": "e2ff6ebc",
   "metadata": {},
   "outputs": [],
   "source": [
    "obj_df[\"MAKE\"] = obj_df[\"MAKE\"].astype('category')\n",
    "obj_df[\"MODEL\"] = obj_df[\"MODEL\"].astype('category')\n",
    "obj_df[\"VEHICLECLASS\"] = obj_df[\"VEHICLECLASS\"].astype('category')\n",
    "obj_df[\"TRANSMISSION\"] = obj_df[\"TRANSMISSION\"].astype('category')\n",
    "obj_df[\"FUELTYPE\"] = obj_df[\"FUELTYPE\"].astype('category')"
   ]
  },
  {
   "cell_type": "code",
   "execution_count": 10,
   "id": "0ce3299a",
   "metadata": {},
   "outputs": [
    {
     "data": {
      "text/plain": [
       "MAKE                category\n",
       "MODEL               category\n",
       "VEHICLECLASS        category\n",
       "TRANSMISSION        category\n",
       "FUELTYPE            category\n",
       "MAKE_cat                int8\n",
       "MODEL_cat              int16\n",
       "VEHICLECLASS_cat        int8\n",
       "TRANSMISSION_cat        int8\n",
       "FUELTYPE_cat            int8\n",
       "dtype: object"
      ]
     },
     "execution_count": 10,
     "metadata": {},
     "output_type": "execute_result"
    }
   ],
   "source": [
    "obj_df[\"MAKE_cat\"] = obj_df[\"MAKE\"].cat.codes\n",
    "obj_df[\"MODEL_cat\"] = obj_df[\"MODEL\"].cat.codes\n",
    "obj_df[\"VEHICLECLASS_cat\"] = obj_df[\"VEHICLECLASS\"].cat.codes\n",
    "obj_df[\"TRANSMISSION_cat\"] = obj_df[\"TRANSMISSION\"].cat.codes\n",
    "obj_df[\"FUELTYPE_cat\"] = obj_df[\"FUELTYPE\"].cat.codes\n",
    "obj_df.dtypes"
   ]
  },
  {
   "cell_type": "markdown",
   "id": "4c90f817",
   "metadata": {},
   "source": [
    "The nice aspect of this approach is that you get the benefits of pandas categories (compact data size, ability to order, plotting support) but can easily be converted to numeric values for further analysis."
   ]
  },
  {
   "cell_type": "markdown",
   "id": "39de57bd",
   "metadata": {},
   "source": [
    "# Part 3"
   ]
  },
  {
   "cell_type": "code",
   "execution_count": 11,
   "id": "9c26e780",
   "metadata": {},
   "outputs": [
    {
     "name": "stdout",
     "output_type": "stream",
     "text": [
      "Number of 'Nan' in MODELYEAR: 0\n",
      "Number of 'Nan' in MAKE: 0\n",
      "Number of 'Nan' in MODEL: 9\n",
      "Number of 'Nan' in VEHICLECLASS: 0\n",
      "Number of 'Nan' in ENGINESIZE: 27\n",
      "Number of 'Nan' in CYLINDERS: 34\n",
      "Number of 'Nan' in TRANSMISSION: 0\n",
      "Number of 'Nan' in FUELTYPE: 71\n",
      "Number of 'Nan' in FUELCONSUMPTION_CITY: 0\n",
      "Number of 'Nan' in FUELCONSUMPTION_HWY: 0\n",
      "Number of 'Nan' in FUELCONSUMPTION_COMB_MPG: 0\n",
      "Number of 'Nan' in CO2EMISSIONS: 103\n"
     ]
    }
   ],
   "source": [
    "count = dataset[\"MODELYEAR\"].isna().sum()\n",
    "print(\"Number of 'Nan' in MODELYEAR:\", count)\n",
    "count = dataset[\"MAKE\"].isna().sum()\n",
    "print(\"Number of 'Nan' in MAKE:\", count)\n",
    "count = dataset[\"MODEL\"].isna().sum()\n",
    "print(\"Number of 'Nan' in MODEL:\", count)\n",
    "count = dataset[\"VEHICLECLASS\"].isna().sum()\n",
    "print(\"Number of 'Nan' in VEHICLECLASS:\", count)\n",
    "count = dataset[\"ENGINESIZE\"].isna().sum()\n",
    "print(\"Number of 'Nan' in ENGINESIZE:\", count)\n",
    "count = dataset[\"CYLINDERS\"].isna().sum()\n",
    "print(\"Number of 'Nan' in CYLINDERS:\", count)\n",
    "count = dataset[\"TRANSMISSION\"].isna().sum()\n",
    "print(\"Number of 'Nan' in TRANSMISSION:\", count)\n",
    "count = dataset[\"FUELTYPE\"].isna().sum()\n",
    "print(\"Number of 'Nan' in FUELTYPE:\", count)\n",
    "count = dataset[\"FUELCONSUMPTION_CITY\"].isna().sum()\n",
    "print(\"Number of 'Nan' in FUELCONSUMPTION_CITY:\", count)\n",
    "count = dataset[\"FUELCONSUMPTION_HWY\"].isna().sum()\n",
    "print(\"Number of 'Nan' in FUELCONSUMPTION_HWY:\", count)\n",
    "count = dataset[\"FUELCONSUMPTION_COMB_MPG\"].isna().sum()\n",
    "print(\"Number of 'Nan' in FUELCONSUMPTION_COMB_MPG:\", count)\n",
    "count = dataset[\"CO2EMISSIONS\"].isna().sum()\n",
    "print(\"Number of 'Nan' in CO2EMISSIONS:\", count)"
   ]
  },
  {
   "cell_type": "code",
   "execution_count": 12,
   "id": "a98e4b33",
   "metadata": {},
   "outputs": [
    {
     "data": {
      "text/plain": [
       "Unnamed: 0                    0\n",
       "MODELYEAR                     0\n",
       "MAKE                          0\n",
       "MODEL                         9\n",
       "VEHICLECLASS                  0\n",
       "ENGINESIZE                   27\n",
       "CYLINDERS                    34\n",
       "TRANSMISSION                  0\n",
       "FUELTYPE                     71\n",
       "FUELCONSUMPTION_CITY          0\n",
       "FUELCONSUMPTION_HWY           0\n",
       "FUELCONSUMPTION_COMB          0\n",
       "FUELCONSUMPTION_COMB_MPG      0\n",
       "CO2EMISSIONS                103\n",
       "dtype: int64"
      ]
     },
     "execution_count": 12,
     "metadata": {},
     "output_type": "execute_result"
    }
   ],
   "source": [
    "dataset.isna().sum()"
   ]
  },
  {
   "cell_type": "code",
   "execution_count": 125,
   "id": "27f9220d",
   "metadata": {},
   "outputs": [
    {
     "data": {
      "text/plain": [
       "1067"
      ]
     },
     "execution_count": 125,
     "metadata": {},
     "output_type": "execute_result"
    }
   ],
   "source": [
    "column_means = dataset.mean()\n",
    "df = dataset.fillna(column_means)\n",
    "df[\"CO2EMISSIONS\"] = dataset[\"CO2EMISSIONS\"]\n",
    "len(df)"
   ]
  },
  {
   "cell_type": "code",
   "execution_count": 143,
   "id": "8bf7b2ae",
   "metadata": {},
   "outputs": [
    {
     "name": "stdout",
     "output_type": "stream",
     "text": [
      "103\n",
      "964\n"
     ]
    }
   ],
   "source": [
    "test = dataset[dataset[\"CO2EMISSIONS\"].isnull()]\n",
    "print(len(test))\n",
    "train = dataset[dataset['CO2EMISSIONS'].notna()]\n",
    "print(len(train))"
   ]
  },
  {
   "cell_type": "markdown",
   "id": "50769fcb",
   "metadata": {},
   "source": [
    "*** Dropping the columns that have Nan Values has an advantage like quick and simpler process.\n",
    "it also has disadvantages like a significant loss of data (about 40%)\n",
    "\n",
    "*** Filling the null values with the mean of a particular column makes no significant loss of data (about 0.1%)\n",
    "\n",
    "Disadvantages of this method are Inaccuracy- which will hamper the process of analysis and prediction\n",
    "For a particular category, all null values present for a column.\n",
    "For example, on a health questionnaire, heavier respondents may be less willing to disclose their weight. The mean of the observed values would be lower than the true mean for all respondents, and you'd be using that value in place of values that should actually be considerably higher.\n",
    "Using the mean is less of an issue if the reason the values are missing is independent of the missing values themselves."
   ]
  },
  {
   "cell_type": "markdown",
   "id": "ee98a3ea",
   "metadata": {},
   "source": [
    "# Part 4"
   ]
  },
  {
   "cell_type": "code",
   "execution_count": 228,
   "id": "c2cece5d",
   "metadata": {},
   "outputs": [
    {
     "data": {
      "text/plain": [
       "Unnamed: 0                   571.334107\n",
       "MODELYEAR                   2014.000000\n",
       "ENGINESIZE                     2.188941\n",
       "CYLINDERS                      4.331731\n",
       "FUELCONSUMPTION_CITY          10.037819\n",
       "FUELCONSUMPTION_HWY            7.350116\n",
       "FUELCONSUMPTION_COMB           8.832251\n",
       "FUELCONSUMPTION_COMB_MPG      32.800464\n",
       "CO2EMISSIONS                 201.122970\n",
       "dtype: float64"
      ]
     },
     "execution_count": 228,
     "metadata": {},
     "output_type": "execute_result"
    }
   ],
   "source": [
    "start_time_vectorization = time.time()\n",
    "s1 = dataset[dataset[\"CO2EMISSIONS\"] < 240].mean()\n",
    "end_time_vectorization = time.time() - start_time_vectorization\n",
    "s1"
   ]
  },
  {
   "cell_type": "code",
   "execution_count": 223,
   "id": "738b72c5",
   "metadata": {},
   "outputs": [
    {
     "data": {
      "text/plain": [
       "Unnamed: 0                   447.925581\n",
       "MODELYEAR                   2014.000000\n",
       "ENGINESIZE                     5.248039\n",
       "CYLINDERS                      8.172249\n",
       "FUELCONSUMPTION_CITY          18.663256\n",
       "FUELCONSUMPTION_HWY           13.152558\n",
       "FUELCONSUMPTION_COMB          16.188372\n",
       "FUELCONSUMPTION_COMB_MPG      17.869767\n",
       "CO2EMISSIONS                 348.902326\n",
       "dtype: float64"
      ]
     },
     "execution_count": 223,
     "metadata": {},
     "output_type": "execute_result"
    }
   ],
   "source": [
    "dataset[dataset[\"CO2EMISSIONS\"] > 300].mean()"
   ]
  },
  {
   "cell_type": "markdown",
   "id": "036223d3",
   "metadata": {},
   "source": [
    "# Part 5"
   ]
  },
  {
   "cell_type": "code",
   "execution_count": 224,
   "id": "d057b0e8",
   "metadata": {},
   "outputs": [
    {
     "data": {
      "text/plain": [
       "0       196.0\n",
       "1       221.0\n",
       "2       136.0\n",
       "4       244.0\n",
       "5       230.0\n",
       "        ...  \n",
       "1062    271.0\n",
       "1063    264.0\n",
       "1064    271.0\n",
       "1065    260.0\n",
       "1066    294.0\n",
       "Name: CO2EMISSIONS, Length: 964, dtype: float64"
      ]
     },
     "execution_count": 224,
     "metadata": {},
     "output_type": "execute_result"
    }
   ],
   "source": [
    "newDs = dataset[\"CO2EMISSIONS\"].dropna()\n",
    "newDs"
   ]
  },
  {
   "cell_type": "code",
   "execution_count": 229,
   "id": "f7233146",
   "metadata": {},
   "outputs": [
    {
     "name": "stdout",
     "output_type": "stream",
     "text": [
      "10.037819025522042\n"
     ]
    }
   ],
   "source": [
    "start_time_forloop = time.time()\n",
    "count = temp = 0\n",
    "for column in dataset[['CO2EMISSIONS']]:\n",
    "    columnSeriesObj = dataset[column]\n",
    "    columnSeriesObj = columnSeriesObj\n",
    "    for i in range(len(dataset)):\n",
    "        if (np.isnan(columnSeriesObj.values[i]) == False):\n",
    "            if int(columnSeriesObj.values[i]) < 240:\n",
    "                count += 1\n",
    "                temp += dataset[\"FUELCONSUMPTION_CITY\"][i]\n",
    "print(temp/count)\n",
    "end_time_forloop = time.time() - start_time_forloop"
   ]
  },
  {
   "cell_type": "code",
   "execution_count": 230,
   "id": "3e2e911d",
   "metadata": {},
   "outputs": [
    {
     "name": "stdout",
     "output_type": "stream",
     "text": [
      "18.663255813953487\n"
     ]
    }
   ],
   "source": [
    "count = temp = 0\n",
    "for column in dataset[['CO2EMISSIONS']]:\n",
    "    columnSeriesObj = dataset[column]\n",
    "    columnSeriesObj = columnSeriesObj\n",
    "    for i in range(len(dataset)):\n",
    "        if (np.isnan(columnSeriesObj.values[i]) == False):\n",
    "            if int(columnSeriesObj.values[i]) > 300:\n",
    "                count += 1\n",
    "                temp += dataset[\"FUELCONSUMPTION_CITY\"][i]\n",
    "print(temp/count)"
   ]
  },
  {
   "cell_type": "code",
   "execution_count": 234,
   "id": "81c0d1ff",
   "metadata": {},
   "outputs": [
    {
     "name": "stdout",
     "output_type": "stream",
     "text": [
      "elapsed time in vectorization: 0.0020055770874023438\n",
      "elapsed time in for-loop:      0.006168365478515625\n"
     ]
    }
   ],
   "source": [
    "print(\"elapsed time in vectorization:\" , end_time_vectorization)\n",
    "print(\"elapsed time in for-loop:     \" , end_time_forloop)"
   ]
  },
  {
   "cell_type": "markdown",
   "id": "38ba6962",
   "metadata": {},
   "source": [
    "As you can see, the execution time of the program in vectorization mode is one-third of the time we use for-loop."
   ]
  },
  {
   "cell_type": "markdown",
   "id": "9aad0036",
   "metadata": {},
   "source": [
    "# Part6"
   ]
  },
  {
   "cell_type": "code",
   "execution_count": 149,
   "id": "6b288e11",
   "metadata": {
    "scrolled": true
   },
   "outputs": [
    {
     "data": {
      "image/png": "[encoded data removed]",
      "text/plain": [
       "<Figure size 432x288 with 1 Axes>"
      ]
     },
     "metadata": {
      "needs_background": "light"
     },
     "output_type": "display_data"
    }
   ],
   "source": [
    "hist = dataset[\"MODELYEAR\"].hist(bins = 50)"
   ]
  },
  {
   "cell_type": "code",
   "execution_count": 150,
   "id": "eb050af1",
   "metadata": {},
   "outputs": [
    {
     "data": {
      "image/png": "[encoded data removed]",
      "text/plain": [
       "<Figure size 432x288 with 1 Axes>"
      ]
     },
     "metadata": {
      "needs_background": "light"
     },
     "output_type": "display_data"
    }
   ],
   "source": [
    "hist = dataset[\"ENGINESIZE\"].hist(bins = 50)"
   ]
  },
  {
   "cell_type": "code",
   "execution_count": 151,
   "id": "937e0490",
   "metadata": {},
   "outputs": [
    {
     "data": {
      "image/png": "[encoded data removed]",
      "text/plain": [
       "<Figure size 432x288 with 1 Axes>"
      ]
     },
     "metadata": {
      "needs_background": "light"
     },
     "output_type": "display_data"
    }
   ],
   "source": [
    "plt.xticks(rotation=90)\n",
    "hist = dataset[\"MAKE\"].hist(bins = 50)"
   ]
  },
  {
   "cell_type": "code",
   "execution_count": 152,
   "id": "01cf0d1e",
   "metadata": {},
   "outputs": [
    {
     "data": {
      "image/png": "[encoded data removed]",
      "text/plain": [
       "<Figure size 432x288 with 1 Axes>"
      ]
     },
     "metadata": {
      "needs_background": "light"
     },
     "output_type": "display_data"
    }
   ],
   "source": [
    "hist = dataset[\"FUELTYPE\"].hist(bins = 10)"
   ]
  },
  {
   "cell_type": "code",
   "execution_count": 153,
   "id": "115a9a47",
   "metadata": {},
   "outputs": [
    {
     "data": {
      "image/png": "[encoded data removed]",
      "text/plain": [
       "<Figure size 432x288 with 1 Axes>"
      ]
     },
     "metadata": {
      "needs_background": "light"
     },
     "output_type": "display_data"
    }
   ],
   "source": [
    "plt.xticks(rotation=90)\n",
    "hist = dataset[\"VEHICLECLASS\"].hist(bins = 50)"
   ]
  },
  {
   "cell_type": "code",
   "execution_count": 154,
   "id": "ceca6b4f",
   "metadata": {},
   "outputs": [
    {
     "data": {
      "image/png": "[encoded data removed]",
      "text/plain": [
       "<Figure size 432x288 with 1 Axes>"
      ]
     },
     "metadata": {
      "needs_background": "light"
     },
     "output_type": "display_data"
    }
   ],
   "source": [
    "plt.xticks(rotation=90)\n",
    "hist = dataset[\"TRANSMISSION\"].hist(bins = 50)"
   ]
  },
  {
   "cell_type": "code",
   "execution_count": 236,
   "id": "3133be1f",
   "metadata": {},
   "outputs": [
    {
     "data": {
      "image/png": "[encoded data removed]",
      "text/plain": [
       "<Figure size 432x288 with 1 Axes>"
      ]
     },
     "metadata": {
      "needs_background": "light"
     },
     "output_type": "display_data"
    }
   ],
   "source": [
    "plt.xticks(rotation=90)\n",
    "hist = dataset[\"FUELCONSUMPTION_CITY\"].hist(bins = 50)"
   ]
  },
  {
   "cell_type": "code",
   "execution_count": 237,
   "id": "451411be",
   "metadata": {},
   "outputs": [
    {
     "data": {
      "image/png": "[encoded data removed]",
      "text/plain": [
       "<Figure size 432x288 with 1 Axes>"
      ]
     },
     "metadata": {
      "needs_background": "light"
     },
     "output_type": "display_data"
    }
   ],
   "source": [
    "plt.xticks(rotation=90)\n",
    "hist = dataset[\"FUELCONSUMPTION_HWY\"].hist(bins = 50)"
   ]
  },
  {
   "cell_type": "code",
   "execution_count": 238,
   "id": "480b61c8",
   "metadata": {},
   "outputs": [
    {
     "data": {
      "image/png": "[encoded data removed]",
      "text/plain": [
       "<Figure size 432x288 with 1 Axes>"
      ]
     },
     "metadata": {
      "needs_background": "light"
     },
     "output_type": "display_data"
    }
   ],
   "source": [
    "plt.xticks(rotation=90)\n",
    "hist = dataset[\"FUELCONSUMPTION_COMB\"].hist(bins = 50)"
   ]
  },
  {
   "cell_type": "code",
   "execution_count": 240,
   "id": "2262f0d1",
   "metadata": {},
   "outputs": [
    {
     "data": {
      "image/png": "[encoded data removed]",
      "text/plain": [
       "<Figure size 432x288 with 1 Axes>"
      ]
     },
     "metadata": {
      "needs_background": "light"
     },
     "output_type": "display_data"
    }
   ],
   "source": [
    "plt.xticks(rotation=90)\n",
    "hist = dataset[\"FUELCONSUMPTION_COMB_MPG\"].hist(bins = 50)"
   ]
  },
  {
   "cell_type": "markdown",
   "id": "6b2ff95e",
   "metadata": {},
   "source": [
    "# Part7"
   ]
  },
  {
   "cell_type": "code",
   "execution_count": 271,
   "id": "5d571a70",
   "metadata": {},
   "outputs": [
    {
     "name": "stdout",
     "output_type": "stream",
     "text": [
      "256.74170124481327\n",
      "63.26530765153163\n"
     ]
    },
    {
     "data": {
      "text/html": [
       "<div>\n",
       "<style scoped>\n",
       "    .dataframe tbody tr th:only-of-type {\n",
       "        vertical-align: middle;\n",
       "    }\n",
       "\n",
       "    .dataframe tbody tr th {\n",
       "        vertical-align: top;\n",
       "    }\n",
       "\n",
       "    .dataframe thead th {\n",
       "        text-align: right;\n",
       "    }\n",
       "</style>\n",
       "<table border=\"1\" class=\"dataframe\">\n",
       "  <thead>\n",
       "    <tr style=\"text-align: right;\">\n",
       "      <th></th>\n",
       "      <th>CO2EMISSIONS</th>\n",
       "      <th>CYLINDERS</th>\n",
       "      <th>ENGINESIZE</th>\n",
       "      <th>FUELCONSUMPTION_CITY</th>\n",
       "      <th>FUELCONSUMPTION_COMB</th>\n",
       "      <th>FUELCONSUMPTION_COMB_MPG</th>\n",
       "      <th>FUELCONSUMPTION_HWY</th>\n",
       "      <th>FUELTYPE</th>\n",
       "      <th>MAKE</th>\n",
       "      <th>MODEL</th>\n",
       "      <th>MODELYEAR</th>\n",
       "      <th>TRANSMISSION</th>\n",
       "      <th>Unnamed: 0</th>\n",
       "      <th>VEHICLECLASS</th>\n",
       "    </tr>\n",
       "  </thead>\n",
       "  <tbody>\n",
       "    <tr>\n",
       "      <th>0</th>\n",
       "      <td>-0.960111</td>\n",
       "      <td>-1.008447</td>\n",
       "      <td>-0.960777</td>\n",
       "      <td>-0.833605</td>\n",
       "      <td>-0.888216</td>\n",
       "      <td>0.886286</td>\n",
       "      <td>-0.994870</td>\n",
       "      <td>NaN</td>\n",
       "      <td>NaN</td>\n",
       "      <td>NaN</td>\n",
       "      <td>NaN</td>\n",
       "      <td>NaN</td>\n",
       "      <td>-1.727000</td>\n",
       "      <td>NaN</td>\n",
       "    </tr>\n",
       "    <tr>\n",
       "      <th>1</th>\n",
       "      <td>-0.564949</td>\n",
       "      <td>-1.008447</td>\n",
       "      <td>-0.674838</td>\n",
       "      <td>-0.519842</td>\n",
       "      <td>-0.576247</td>\n",
       "      <td>0.352882</td>\n",
       "      <td>-0.641939</td>\n",
       "      <td>NaN</td>\n",
       "      <td>NaN</td>\n",
       "      <td>NaN</td>\n",
       "      <td>NaN</td>\n",
       "      <td>NaN</td>\n",
       "      <td>-1.723743</td>\n",
       "      <td>NaN</td>\n",
       "    </tr>\n",
       "    <tr>\n",
       "      <th>2</th>\n",
       "      <td>-1.908498</td>\n",
       "      <td>-1.008447</td>\n",
       "      <td>-1.318201</td>\n",
       "      <td>-1.774893</td>\n",
       "      <td>-1.625596</td>\n",
       "      <td>2.886552</td>\n",
       "      <td>-1.312508</td>\n",
       "      <td>NaN</td>\n",
       "      <td>NaN</td>\n",
       "      <td>NaN</td>\n",
       "      <td>NaN</td>\n",
       "      <td>NaN</td>\n",
       "      <td>-1.720487</td>\n",
       "      <td>NaN</td>\n",
       "    </tr>\n",
       "    <tr>\n",
       "      <th>4</th>\n",
       "      <td>-0.201401</td>\n",
       "      <td>0.098356</td>\n",
       "      <td>0.111495</td>\n",
       "      <td>-0.302621</td>\n",
       "      <td>-0.292640</td>\n",
       "      <td>0.086180</td>\n",
       "      <td>-0.289008</td>\n",
       "      <td>NaN</td>\n",
       "      <td>NaN</td>\n",
       "      <td>NaN</td>\n",
       "      <td>NaN</td>\n",
       "      <td>NaN</td>\n",
       "      <td>-1.713973</td>\n",
       "      <td>NaN</td>\n",
       "    </tr>\n",
       "    <tr>\n",
       "      <th>5</th>\n",
       "      <td>-0.422691</td>\n",
       "      <td>0.098356</td>\n",
       "      <td>0.111495</td>\n",
       "      <td>-0.350893</td>\n",
       "      <td>-0.462804</td>\n",
       "      <td>0.219531</td>\n",
       "      <td>-0.641939</td>\n",
       "      <td>NaN</td>\n",
       "      <td>NaN</td>\n",
       "      <td>NaN</td>\n",
       "      <td>NaN</td>\n",
       "      <td>NaN</td>\n",
       "      <td>-1.710717</td>\n",
       "      <td>NaN</td>\n",
       "    </tr>\n",
       "    <tr>\n",
       "      <th>...</th>\n",
       "      <td>...</td>\n",
       "      <td>...</td>\n",
       "      <td>...</td>\n",
       "      <td>...</td>\n",
       "      <td>...</td>\n",
       "      <td>...</td>\n",
       "      <td>...</td>\n",
       "      <td>...</td>\n",
       "      <td>...</td>\n",
       "      <td>...</td>\n",
       "      <td>...</td>\n",
       "      <td>...</td>\n",
       "      <td>...</td>\n",
       "      <td>...</td>\n",
       "    </tr>\n",
       "    <tr>\n",
       "      <th>1062</th>\n",
       "      <td>0.225373</td>\n",
       "      <td>0.098356</td>\n",
       "      <td>-0.245929</td>\n",
       "      <td>0.011141</td>\n",
       "      <td>0.047690</td>\n",
       "      <td>-0.313873</td>\n",
       "      <td>0.099216</td>\n",
       "      <td>NaN</td>\n",
       "      <td>NaN</td>\n",
       "      <td>NaN</td>\n",
       "      <td>NaN</td>\n",
       "      <td>NaN</td>\n",
       "      <td>1.731594</td>\n",
       "      <td>NaN</td>\n",
       "    </tr>\n",
       "    <tr>\n",
       "      <th>1063</th>\n",
       "      <td>0.114728</td>\n",
       "      <td>0.098356</td>\n",
       "      <td>-0.102959</td>\n",
       "      <td>-0.037130</td>\n",
       "      <td>-0.037393</td>\n",
       "      <td>-0.180522</td>\n",
       "      <td>-0.006663</td>\n",
       "      <td>NaN</td>\n",
       "      <td>NaN</td>\n",
       "      <td>NaN</td>\n",
       "      <td>NaN</td>\n",
       "      <td>NaN</td>\n",
       "      <td>1.734851</td>\n",
       "      <td>NaN</td>\n",
       "    </tr>\n",
       "    <tr>\n",
       "      <th>1064</th>\n",
       "      <td>0.225373</td>\n",
       "      <td>0.098356</td>\n",
       "      <td>-0.245929</td>\n",
       "      <td>0.011141</td>\n",
       "      <td>0.047690</td>\n",
       "      <td>-0.313873</td>\n",
       "      <td>0.099216</td>\n",
       "      <td>NaN</td>\n",
       "      <td>NaN</td>\n",
       "      <td>NaN</td>\n",
       "      <td>NaN</td>\n",
       "      <td>NaN</td>\n",
       "      <td>1.738108</td>\n",
       "      <td>NaN</td>\n",
       "    </tr>\n",
       "    <tr>\n",
       "      <th>1065</th>\n",
       "      <td>0.051502</td>\n",
       "      <td>0.098356</td>\n",
       "      <td>-0.102959</td>\n",
       "      <td>-0.109537</td>\n",
       "      <td>-0.094114</td>\n",
       "      <td>-0.180522</td>\n",
       "      <td>-0.077249</td>\n",
       "      <td>NaN</td>\n",
       "      <td>NaN</td>\n",
       "      <td>NaN</td>\n",
       "      <td>NaN</td>\n",
       "      <td>NaN</td>\n",
       "      <td>1.741365</td>\n",
       "      <td>NaN</td>\n",
       "    </tr>\n",
       "    <tr>\n",
       "      <th>1066</th>\n",
       "      <td>0.588921</td>\n",
       "      <td>0.098356</td>\n",
       "      <td>-0.102959</td>\n",
       "      <td>0.373175</td>\n",
       "      <td>0.331297</td>\n",
       "      <td>-0.580575</td>\n",
       "      <td>0.240388</td>\n",
       "      <td>NaN</td>\n",
       "      <td>NaN</td>\n",
       "      <td>NaN</td>\n",
       "      <td>NaN</td>\n",
       "      <td>NaN</td>\n",
       "      <td>1.744621</td>\n",
       "      <td>NaN</td>\n",
       "    </tr>\n",
       "  </tbody>\n",
       "</table>\n",
       "<p>964 rows × 14 columns</p>\n",
       "</div>"
      ],
      "text/plain": [
       "      CO2EMISSIONS  CYLINDERS  ENGINESIZE  FUELCONSUMPTION_CITY  \\\n",
       "0        -0.960111  -1.008447   -0.960777             -0.833605   \n",
       "1        -0.564949  -1.008447   -0.674838             -0.519842   \n",
       "2        -1.908498  -1.008447   -1.318201             -1.774893   \n",
       "4        -0.201401   0.098356    0.111495             -0.302621   \n",
       "5        -0.422691   0.098356    0.111495             -0.350893   \n",
       "...            ...        ...         ...                   ...   \n",
       "1062      0.225373   0.098356   -0.245929              0.011141   \n",
       "1063      0.114728   0.098356   -0.102959             -0.037130   \n",
       "1064      0.225373   0.098356   -0.245929              0.011141   \n",
       "1065      0.051502   0.098356   -0.102959             -0.109537   \n",
       "1066      0.588921   0.098356   -0.102959              0.373175   \n",
       "\n",
       "      FUELCONSUMPTION_COMB  FUELCONSUMPTION_COMB_MPG  FUELCONSUMPTION_HWY  \\\n",
       "0                -0.888216                  0.886286            -0.994870   \n",
       "1                -0.576247                  0.352882            -0.641939   \n",
       "2                -1.625596                  2.886552            -1.312508   \n",
       "4                -0.292640                  0.086180            -0.289008   \n",
       "5                -0.462804                  0.219531            -0.641939   \n",
       "...                    ...                       ...                  ...   \n",
       "1062              0.047690                 -0.313873             0.099216   \n",
       "1063             -0.037393                 -0.180522            -0.006663   \n",
       "1064              0.047690                 -0.313873             0.099216   \n",
       "1065             -0.094114                 -0.180522            -0.077249   \n",
       "1066              0.331297                 -0.580575             0.240388   \n",
       "\n",
       "     FUELTYPE MAKE MODEL  MODELYEAR TRANSMISSION  Unnamed: 0 VEHICLECLASS  \n",
       "0         NaN  NaN   NaN        NaN          NaN   -1.727000          NaN  \n",
       "1         NaN  NaN   NaN        NaN          NaN   -1.723743          NaN  \n",
       "2         NaN  NaN   NaN        NaN          NaN   -1.720487          NaN  \n",
       "4         NaN  NaN   NaN        NaN          NaN   -1.713973          NaN  \n",
       "5         NaN  NaN   NaN        NaN          NaN   -1.710717          NaN  \n",
       "...       ...  ...   ...        ...          ...         ...          ...  \n",
       "1062      NaN  NaN   NaN        NaN          NaN    1.731594          NaN  \n",
       "1063      NaN  NaN   NaN        NaN          NaN    1.734851          NaN  \n",
       "1064      NaN  NaN   NaN        NaN          NaN    1.738108          NaN  \n",
       "1065      NaN  NaN   NaN        NaN          NaN    1.741365          NaN  \n",
       "1066      NaN  NaN   NaN        NaN          NaN    1.744621          NaN  \n",
       "\n",
       "[964 rows x 14 columns]"
      ]
     },
     "execution_count": 271,
     "metadata": {},
     "output_type": "execute_result"
    }
   ],
   "source": [
    "normalized_df =(train - train.mean())/train.std()\n",
    "print(train[\"CO2EMISSIONS\"].mean())\n",
    "print(train[\"CO2EMISSIONS\"].std())\n",
    "normalized_df"
   ]
  },
  {
   "cell_type": "markdown",
   "id": "7cf9953d",
   "metadata": {},
   "source": [
    "# Part8_A)"
   ]
  },
  {
   "cell_type": "code",
   "execution_count": 156,
   "id": "a1379c11",
   "metadata": {},
   "outputs": [
    {
     "data": {
      "image/png": "[encoded data removed]",
      "text/plain": [
       "<Figure size 432x288 with 1 Axes>"
      ]
     },
     "metadata": {
      "needs_background": "light"
     },
     "output_type": "display_data"
    }
   ],
   "source": [
    "x = np.array(train[\"MODELYEAR\"])\n",
    "y = np.array(train[\"CO2EMISSIONS\"])\n",
    "plt.scatter(x, y, cmap = 'viridis')\n",
    "plt.show()"
   ]
  },
  {
   "cell_type": "code",
   "execution_count": 157,
   "id": "ee645d56",
   "metadata": {},
   "outputs": [
    {
     "data": {
      "image/png": "[encoded data removed]",
      "text/plain": [
       "<Figure size 432x288 with 1 Axes>"
      ]
     },
     "metadata": {
      "needs_background": "light"
     },
     "output_type": "display_data"
    }
   ],
   "source": [
    "plt.xticks(rotation=90)\n",
    "x = np.array(train[\"ENGINESIZE\"])\n",
    "y = np.array(train[\"CO2EMISSIONS\"])\n",
    "plt.scatter(x, y, cmap = 'viridis')\n",
    "plt.show()"
   ]
  },
  {
   "cell_type": "code",
   "execution_count": 158,
   "id": "3d4b138d",
   "metadata": {},
   "outputs": [
    {
     "data": {
      "image/png": "[encoded data removed]",
      "text/plain": [
       "<Figure size 432x288 with 1 Axes>"
      ]
     },
     "metadata": {
      "needs_background": "light"
     },
     "output_type": "display_data"
    }
   ],
   "source": [
    "plt.xticks(rotation=90)\n",
    "x = np.array(train[\"CYLINDERS\"])\n",
    "y = np.array(train[\"CO2EMISSIONS\"])\n",
    "plt.scatter(x, y, cmap = 'viridis')\n",
    "plt.show()"
   ]
  },
  {
   "cell_type": "code",
   "execution_count": 159,
   "id": "709c7bbf",
   "metadata": {},
   "outputs": [
    {
     "data": {
      "image/png": "[encoded data removed]",
      "text/plain": [
       "<Figure size 432x288 with 1 Axes>"
      ]
     },
     "metadata": {
      "needs_background": "light"
     },
     "output_type": "display_data"
    }
   ],
   "source": [
    "plt.xticks(rotation=90)\n",
    "x = np.array(train[\"FUELCONSUMPTION_CITY\"])\n",
    "y = np.array(train[\"CO2EMISSIONS\"])\n",
    "plt.scatter(x, y, cmap = 'viridis')\n",
    "plt.show()"
   ]
  },
  {
   "cell_type": "code",
   "execution_count": 160,
   "id": "681022a8",
   "metadata": {},
   "outputs": [
    {
     "data": {
      "image/png": "[encoded data removed]",
      "text/plain": [
       "<Figure size 432x288 with 1 Axes>"
      ]
     },
     "metadata": {
      "needs_background": "light"
     },
     "output_type": "display_data"
    }
   ],
   "source": [
    "plt.xticks(rotation=90)\n",
    "x = np.array(train[\"FUELCONSUMPTION_HWY\"])\n",
    "y = np.array(train[\"CO2EMISSIONS\"])\n",
    "plt.scatter(x, y, cmap = 'viridis')\n",
    "plt.show()"
   ]
  },
  {
   "cell_type": "code",
   "execution_count": 161,
   "id": "e14b11e9",
   "metadata": {},
   "outputs": [
    {
     "data": {
      "image/png": "[encoded data removed]",
      "text/plain": [
       "<Figure size 432x288 with 1 Axes>"
      ]
     },
     "metadata": {
      "needs_background": "light"
     },
     "output_type": "display_data"
    }
   ],
   "source": [
    "plt.xticks(rotation=90)\n",
    "x = np.array(train[\"FUELCONSUMPTION_COMB\"])\n",
    "y = np.array(train[\"CO2EMISSIONS\"])\n",
    "plt.scatter(x, y, cmap = 'viridis')\n",
    "plt.show()"
   ]
  },
  {
   "cell_type": "code",
   "execution_count": 162,
   "id": "c987be30",
   "metadata": {},
   "outputs": [
    {
     "data": {
      "image/png": "[encoded data removed]",
      "text/plain": [
       "<Figure size 432x288 with 1 Axes>"
      ]
     },
     "metadata": {
      "needs_background": "light"
     },
     "output_type": "display_data"
    }
   ],
   "source": [
    "plt.xticks(rotation=90)\n",
    "x = np.array(train[\"FUELCONSUMPTION_COMB_MPG\"])\n",
    "y = np.array(train[\"CO2EMISSIONS\"])\n",
    "plt.scatter(x, y, cmap = 'viridis')\n",
    "plt.show()"
   ]
  },
  {
   "cell_type": "markdown",
   "id": "6478345b",
   "metadata": {},
   "source": [
    "# Part8_B)"
   ]
  },
  {
   "cell_type": "markdown",
   "id": "5f19a93a",
   "metadata": {},
   "source": [
    "As we studied in Statistics and Probability, When the \"Y\" variable tends to increase as the \"x\" variable increases, we say there is a positive correlation between the variables.\n",
    "The strongest linear relationship occurs when the slope is 1.  This means that \n",
    "when one variable increases by one, the other variable also increases by the \n",
    "same amount.  This line is at a 45 degree angle. \n",
    "FUELCONSUMPTION_COMB seems have the most linear correlation compare to others."
   ]
  },
  {
   "cell_type": "markdown",
   "id": "acf77049",
   "metadata": {},
   "source": [
    "# Part 9"
   ]
  },
  {
   "cell_type": "code",
   "execution_count": 203,
   "id": "e6b339df",
   "metadata": {},
   "outputs": [],
   "source": [
    "x_ = np.matrix([np.ones(len(normalized_df[\"CO2EMISSIONS\"])),normalized_df[\"CO2EMISSIONS\"]]).T\n",
    "y_ = np.matrix(normalized_df[\"FUELCONSUMPTION_COMB\"]).T"
   ]
  },
  {
   "cell_type": "markdown",
   "id": "81b7062e",
   "metadata": {},
   "source": [
    "Martix X:"
   ]
  },
  {
   "cell_type": "code",
   "execution_count": 204,
   "id": "c52c4928",
   "metadata": {},
   "outputs": [
    {
     "data": {
      "text/plain": [
       "matrix([[ 1.        , -0.96011074],\n",
       "        [ 1.        , -0.56494946],\n",
       "        [ 1.        , -1.90849781],\n",
       "        ...,\n",
       "        [ 1.        ,  0.2253731 ],\n",
       "        [ 1.        ,  0.05150214],\n",
       "        [ 1.        ,  0.58892148]])"
      ]
     },
     "execution_count": 204,
     "metadata": {},
     "output_type": "execute_result"
    }
   ],
   "source": [
    "x_"
   ]
  },
  {
   "cell_type": "markdown",
   "id": "9ac84d45",
   "metadata": {},
   "source": []
  },
  {
   "cell_type": "code",
   "execution_count": 205,
   "id": "5f2a0da9",
   "metadata": {},
   "outputs": [],
   "source": [
    "fn = np.linalg.inv(x_.T.dot(x_)).dot(x_.T).dot(y_)"
   ]
  },
  {
   "cell_type": "code",
   "execution_count": 206,
   "id": "b519e907",
   "metadata": {},
   "outputs": [
    {
     "data": {
      "text/plain": [
       "matrix([[-1.89892589e-15],\n",
       "        [ 8.88687103e-01]])"
      ]
     },
     "execution_count": 206,
     "metadata": {},
     "output_type": "execute_result"
    }
   ],
   "source": [
    "fn"
   ]
  },
  {
   "cell_type": "code",
   "execution_count": 211,
   "id": "a7a926f2",
   "metadata": {},
   "outputs": [],
   "source": [
    "Y_true = normalized_df[\"CO2EMISSIONS\"]\n",
    "Y_pred = float(fn[1])* normalized_df[\"FUELCONSUMPTION_COMB\"] + float(fn[0])\n",
    "MSE = np.square(np.subtract(Y_true,Y_pred)).mean()"
   ]
  },
  {
   "cell_type": "code",
   "execution_count": 212,
   "id": "b861e543",
   "metadata": {},
   "outputs": [
    {
     "data": {
      "text/plain": [
       "0.2100171470129469"
      ]
     },
     "execution_count": 212,
     "metadata": {},
     "output_type": "execute_result"
    }
   ],
   "source": [
    "MSE"
   ]
  },
  {
   "cell_type": "markdown",
   "id": "863178c2",
   "metadata": {},
   "source": [
    "# Part 11"
   ]
  },
  {
   "cell_type": "code",
   "execution_count": 218,
   "id": "cc8e6486",
   "metadata": {},
   "outputs": [
    {
     "data": {
      "image/png": "[encoded data removed]",
      "text/plain": [
       "<Figure size 432x288 with 1 Axes>"
      ]
     },
     "metadata": {
      "needs_background": "light"
     },
     "output_type": "display_data"
    }
   ],
   "source": [
    "plt.xticks(rotation=90)\n",
    "x = np.array(normalized_df[\"FUELCONSUMPTION_COMB\"])\n",
    "y = np.array(normalized_df[\"CO2EMISSIONS\"])\n",
    "plt.plot(x, y, \"o\")\n",
    "y__ = float(fn[1])* x + float(fn[0])\n",
    "plt.plot(x, y__, '-r')\n",
    "plt.xlabel('x', color='#1C2833')\n",
    "plt.ylabel('y', color='#1C2833')\n",
    "plt.grid()\n",
    "plt.show()"
   ]
  },
  {
   "cell_type": "markdown",
   "id": "7559a4c9",
   "metadata": {},
   "source": [
    "The \n",
    "points on the scatterplot closely \n",
    "resemble a straight line.  A \n",
    "relationship is linear if one \n",
    "variable increases by \n",
    "approximately the same rate as the \n",
    "other variables changes by one \n",
    "unit.\n",
    "Another important component to a scatterplot is the strength of the \n",
    "relationship between the two variables.  \n",
    "The slope provides information on the strength of the relationship.\n",
    "The correlation coefficient is based on means and standard deviations, so it is \n",
    "not robust to outliers; it is strongly affected by extreme observations.  These \n",
    "individuals are sometimes referred to as influential observations because \n",
    "they have a strong impact on the correlation coefficient"
   ]
  },
  {
   "cell_type": "markdown",
   "id": "2497e419",
   "metadata": {},
   "source": [
    "# Part 12"
   ]
  },
  {
   "cell_type": "code",
   "execution_count": 272,
   "id": "122dc1c2",
   "metadata": {},
   "outputs": [
    {
     "data": {
      "text/plain": [
       "3       256.670256\n",
       "20      236.433392\n",
       "30      258.509971\n",
       "42      295.304270\n",
       "43      252.990826\n",
       "           ...    \n",
       "1022    225.395102\n",
       "1027    232.753962\n",
       "1051    249.311396\n",
       "1052    265.868831\n",
       "1053    249.311396\n",
       "Name: FUELCONSUMPTION_COMB, Length: 103, dtype: float64"
      ]
     },
     "execution_count": 272,
     "metadata": {},
     "output_type": "execute_result"
    }
   ],
   "source": [
    "test[\"FUELCONSUMPTION_COMB\"] = (test[\"FUELCONSUMPTION_COMB\"] - test[\"FUELCONSUMPTION_COMB\"].mean())/test[\"FUELCONSUMPTION_COMB\"].std()\n",
    "co2norm =  float(fn[1])* test[\"FUELCONSUMPTION_COMB\"] + float(fn[0])\n",
    "co2norm = (co2norm *  train[\"CO2EMISSIONS\"].std()) + train[\"CO2EMISSIONS\"].mean()\n",
    "co2norm"
   ]
  },
  {
   "cell_type": "code",
   "execution_count": 273,
   "id": "67df9ae7",
   "metadata": {},
   "outputs": [],
   "source": [
    "co2norm.to_csv('myfile.csv')"
   ]
  },
  {
   "cell_type": "code",
   "execution_count": null,
   "id": "2cd17ccf",
   "metadata": {},
   "outputs": [],
   "source": []
  }
 ],
 "metadata": {
  "kernelspec": {
   "display_name": "Python 3",
   "language": "python",
   "name": "python3"
  },
  "language_info": {
   "codemirror_mode": {
    "name": "ipython",
    "version": 3
   },
   "file_extension": ".py",
   "mimetype": "text/x-python",
   "name": "python",
   "nbconvert_exporter": "python",
   "pygments_lexer": "ipython3",
   "version": "3.8.8"
  }
 },
 "nbformat": 4,
 "nbformat_minor": 5
}
